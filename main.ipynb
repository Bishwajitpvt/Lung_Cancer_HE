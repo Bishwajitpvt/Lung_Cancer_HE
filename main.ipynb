{
 "cells": [
  {
   "cell_type": "code",
   "execution_count": 11,
   "metadata": {},
   "outputs": [],
   "source": [
    "import tenseal as ts\n",
    "import utils\n",
    "import homomorphic"
   ]
  },
  {
   "cell_type": "code",
   "execution_count": 12,
   "metadata": {},
   "outputs": [],
   "source": [
    "import tenseal as ts\n",
    "from utils import write_data, read_data\n",
    "context = ts.context(\n",
    "    ts.SCHEME_TYPE.CKKS,\n",
    "    poly_modulus_degree=8192,\n",
    "    coeff_mod_bit_sizes = [60,40,40,60]\n",
    ")\n",
    "# Generate galois keys for authentication\n",
    "context.generate_galois_keys()\n",
    "context.global_scale = 2**40\n",
    "\n",
    "# Extract the private key\n",
    "secret_context = context.serialize(save_secret_key=True)\n",
    "write_data(\"keys/secret.txt\", secret_context)\n",
    "\n",
    "# Create public key\n",
    "context.make_context_public() #drop private key\n",
    "public_context = context.serialize()\n",
    "write_data(\"keys/public.txt\", public_context)"
   ]
  },
  {
   "cell_type": "code",
   "execution_count": 15,
   "metadata": {},
   "outputs": [],
   "source": [
    "encrypted = homomorphic.encrypt(context,[7878.],Float=True)"
   ]
  },
  {
   "cell_type": "code",
   "execution_count": 16,
   "metadata": {},
   "outputs": [
    {
     "ename": "TypeError",
     "evalue": "Invalid input types vector: <class 'tenseal.tensors.ckksvector.CKKSVector'>",
     "output_type": "error",
     "traceback": [
      "\u001b[1;31m---------------------------------------------------------------------------\u001b[0m",
      "\u001b[1;31mTypeError\u001b[0m                                 Traceback (most recent call last)",
      "Cell \u001b[1;32mIn[16], line 1\u001b[0m\n\u001b[1;32m----> 1\u001b[0m \u001b[43mhomomorphic\u001b[49m\u001b[38;5;241;43m.\u001b[39;49m\u001b[43mdecrypt\u001b[49m\u001b[43m(\u001b[49m\u001b[43mcontext\u001b[49m\u001b[43m,\u001b[49m\u001b[43mencrypted\u001b[49m\u001b[43m)\u001b[49m\n",
      "File \u001b[1;32me:\\Major Project test\\lung-cancer-homo\\homomorphic.py:10\u001b[0m, in \u001b[0;36mdecrypt\u001b[1;34m(context, encryptedData)\u001b[0m\n\u001b[0;32m      9\u001b[0m \u001b[38;5;28;01mdef\u001b[39;00m \u001b[38;5;21mdecrypt\u001b[39m(context,encryptedData):\n\u001b[1;32m---> 10\u001b[0m     m2 \u001b[38;5;241m=\u001b[39m \u001b[43mts\u001b[49m\u001b[38;5;241;43m.\u001b[39;49m\u001b[43mlazy_ckks_vector_from\u001b[49m\u001b[43m(\u001b[49m\u001b[43mencryptedData\u001b[49m\u001b[43m)\u001b[49m\n\u001b[0;32m     11\u001b[0m     m2\u001b[38;5;241m.\u001b[39mlink_context(context)\n\u001b[0;32m     12\u001b[0m     \u001b[38;5;28;01mreturn\u001b[39;00m m2\u001b[38;5;241m.\u001b[39mdecrypt()[\u001b[38;5;241m0\u001b[39m]\n",
      "File \u001b[1;32mc:\\Users\\bishw\\anaconda3\\envs\\homo\\lib\\site-packages\\tenseal\\__init__.py:113\u001b[0m, in \u001b[0;36mlazy_ckks_vector_from\u001b[1;34m(data)\u001b[0m\n\u001b[0;32m    111\u001b[0m \u001b[38;5;28;01mdef\u001b[39;00m \u001b[38;5;21mlazy_ckks_vector_from\u001b[39m(data: \u001b[38;5;28mbytes\u001b[39m) \u001b[38;5;241m-\u001b[39m\u001b[38;5;241m>\u001b[39m CKKSVector:\n\u001b[0;32m    112\u001b[0m \u001b[38;5;250m    \u001b[39m\u001b[38;5;124;03m\"\"\"Load a CKKSVector from a protocol buffer.\"\"\"\u001b[39;00m\n\u001b[1;32m--> 113\u001b[0m     \u001b[38;5;28;01mreturn\u001b[39;00m \u001b[43mCKKSVector\u001b[49m\u001b[38;5;241;43m.\u001b[39;49m\u001b[43mlazy_load\u001b[49m\u001b[43m(\u001b[49m\u001b[43mdata\u001b[49m\u001b[43m)\u001b[49m\n",
      "File \u001b[1;32mc:\\Users\\bishw\\anaconda3\\envs\\homo\\lib\\site-packages\\tenseal\\tensors\\abstract_tensor.py:70\u001b[0m, in \u001b[0;36mAbstractTensor.lazy_load\u001b[1;34m(cls, data)\u001b[0m\n\u001b[0;32m     67\u001b[0m     native_type \u001b[38;5;241m=\u001b[39m \u001b[38;5;28mgetattr\u001b[39m(ts\u001b[38;5;241m.\u001b[39m_ts_cpp, \u001b[38;5;28mcls\u001b[39m\u001b[38;5;241m.\u001b[39m\u001b[38;5;18m__name__\u001b[39m)\n\u001b[0;32m     68\u001b[0m     \u001b[38;5;28;01mreturn\u001b[39;00m \u001b[38;5;28mcls\u001b[39m\u001b[38;5;241m.\u001b[39m_wrap(native_type(data))\n\u001b[1;32m---> 70\u001b[0m \u001b[38;5;28;01mraise\u001b[39;00m \u001b[38;5;167;01mTypeError\u001b[39;00m(\u001b[38;5;124m\"\u001b[39m\u001b[38;5;124mInvalid input types vector: \u001b[39m\u001b[38;5;132;01m{}\u001b[39;00m\u001b[38;5;124m\"\u001b[39m\u001b[38;5;241m.\u001b[39mformat(\u001b[38;5;28mtype\u001b[39m(data)))\n",
      "\u001b[1;31mTypeError\u001b[0m: Invalid input types vector: <class 'tenseal.tensors.ckksvector.CKKSVector'>"
     ]
    }
   ],
   "source": [
    "homomorphic.decrypt(context,encrypted)"
   ]
  },
  {
   "cell_type": "code",
   "execution_count": null,
   "metadata": {},
   "outputs": [],
   "source": []
  }
 ],
 "metadata": {
  "kernelspec": {
   "display_name": "homo",
   "language": "python",
   "name": "python3"
  },
  "language_info": {
   "codemirror_mode": {
    "name": "ipython",
    "version": 3
   },
   "file_extension": ".py",
   "mimetype": "text/x-python",
   "name": "python",
   "nbconvert_exporter": "python",
   "pygments_lexer": "ipython3",
   "version": "3.10.13"
  }
 },
 "nbformat": 4,
 "nbformat_minor": 2
}
